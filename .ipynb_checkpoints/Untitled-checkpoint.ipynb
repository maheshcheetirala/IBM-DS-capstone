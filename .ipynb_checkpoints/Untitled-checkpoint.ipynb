{
 "cells": [
  {
   "cell_type": "code",
   "execution_count": 19,
   "metadata": {},
   "outputs": [],
   "source": [
    "import json, requests\n",
    "url = 'https://api.foursquare.com/v2/venues/explore'\n",
    "\n",
    "params = dict(\n",
    "client_id='AGF2Q3KUMROMMCPR3VKROA2ETWWPUPJN34URCA0GZIB5X3ES',\n",
    "client_secret='S1UXOQXCG0JFBZTMTTHCBBC4XL4QPVTCJ3CD0K4POTM0Y45M',\n",
    "v='20200928',\n",
    "ll='40.7243,-74.0018',\n",
    "query='coffee',\n",
    "limit=1\n",
    ")\n",
    "resp = requests.get(url=url, params=params)\n",
    "data = json.loads(resp.text)"
   ]
  },
  {
   "cell_type": "code",
   "execution_count": 20,
   "metadata": {
    "scrolled": true
   },
   "outputs": [
    {
     "data": {
      "text/plain": [
       "{'meta': {'code': 200, 'requestId': '5f721028a5401430260f156c'},\n",
       " 'response': {'suggestedFilters': {'header': 'Tap to show:',\n",
       "   'filters': [{'name': 'Open now', 'key': 'openNow'},\n",
       "    {'name': '$-$$$$', 'key': 'price'}]},\n",
       "  'warning': {'text': 'There aren\\'t a lot of results for \"coffee.\" Try something more general, reset your filters, or expand the search area.'},\n",
       "  'suggestedRadius': 600,\n",
       "  'headerLocation': 'SoHo',\n",
       "  'headerFullLocation': 'SoHo, New York',\n",
       "  'headerLocationGranularity': 'neighborhood',\n",
       "  'query': 'coffee',\n",
       "  'totalResults': 64,\n",
       "  'suggestedBounds': {'ne': {'lat': 40.727318083147175,\n",
       "    'lng': -74.00258497963885},\n",
       "   'sw': {'lat': 40.724618423361726, 'lng': -73.99986745215081}},\n",
       "  'groups': [{'type': 'Recommended Places',\n",
       "    'name': 'recommended',\n",
       "    'items': [{'reasons': {'count': 0,\n",
       "       'items': [{'summary': 'This spot is popular',\n",
       "         'type': 'general',\n",
       "         'reasonName': 'globalInteractionReason'}]},\n",
       "      'venue': {'id': '56cb2d99498eb620bee31423',\n",
       "       'name': 'Rapha NYC',\n",
       "       'location': {'address': '159 Prince St',\n",
       "        'lat': 40.72596825325445,\n",
       "        'lng': -74.00122621589483,\n",
       "        'labeledLatLngs': [{'label': 'display',\n",
       "          'lat': 40.72596825325445,\n",
       "          'lng': -74.00122621589483}],\n",
       "        'distance': 191,\n",
       "        'postalCode': '10012',\n",
       "        'cc': 'US',\n",
       "        'city': 'New York',\n",
       "        'state': 'NY',\n",
       "        'country': 'United States',\n",
       "        'formattedAddress': ['159 Prince St',\n",
       "         'New York, NY 10012',\n",
       "         'United States']},\n",
       "       'categories': [{'id': '4bf58dd8d48988d103951735',\n",
       "         'name': 'Clothing Store',\n",
       "         'pluralName': 'Clothing Stores',\n",
       "         'shortName': 'Apparel',\n",
       "         'icon': {'prefix': 'https://ss3.4sqi.net/img/categories_v2/shops/apparel_',\n",
       "          'suffix': '.png'},\n",
       "         'primary': True}],\n",
       "       'photos': {'count': 0, 'groups': []}},\n",
       "      'referralId': 'e-0-56cb2d99498eb620bee31423-0'}]}]}}"
      ]
     },
     "execution_count": 20,
     "metadata": {},
     "output_type": "execute_result"
    }
   ],
   "source": [
    "data"
   ]
  },
  {
   "cell_type": "code",
   "execution_count": 23,
   "metadata": {},
   "outputs": [
    {
     "data": {
      "text/plain": [
       "dict_keys(['meta', 'response'])"
      ]
     },
     "execution_count": 23,
     "metadata": {},
     "output_type": "execute_result"
    }
   ],
   "source": [
    "data.keys()"
   ]
  },
  {
   "cell_type": "code",
   "execution_count": 40,
   "metadata": {},
   "outputs": [
    {
     "data": {
      "text/plain": [
       "[{'type': 'Recommended Places',\n",
       "  'name': 'recommended',\n",
       "  'items': [{'reasons': {'count': 0,\n",
       "     'items': [{'summary': 'This spot is popular',\n",
       "       'type': 'general',\n",
       "       'reasonName': 'globalInteractionReason'}]},\n",
       "    'venue': {'id': '56cb2d99498eb620bee31423',\n",
       "     'name': 'Rapha NYC',\n",
       "     'location': {'address': '159 Prince St',\n",
       "      'lat': 40.72596825325445,\n",
       "      'lng': -74.00122621589483,\n",
       "      'labeledLatLngs': [{'label': 'display',\n",
       "        'lat': 40.72596825325445,\n",
       "        'lng': -74.00122621589483}],\n",
       "      'distance': 191,\n",
       "      'postalCode': '10012',\n",
       "      'cc': 'US',\n",
       "      'city': 'New York',\n",
       "      'state': 'NY',\n",
       "      'country': 'United States',\n",
       "      'formattedAddress': ['159 Prince St',\n",
       "       'New York, NY 10012',\n",
       "       'United States']},\n",
       "     'categories': [{'id': '4bf58dd8d48988d103951735',\n",
       "       'name': 'Clothing Store',\n",
       "       'pluralName': 'Clothing Stores',\n",
       "       'shortName': 'Apparel',\n",
       "       'icon': {'prefix': 'https://ss3.4sqi.net/img/categories_v2/shops/apparel_',\n",
       "        'suffix': '.png'},\n",
       "       'primary': True}],\n",
       "     'photos': {'count': 0, 'groups': []}},\n",
       "    'referralId': 'e-0-56cb2d99498eb620bee31423-0'}]}]"
      ]
     },
     "execution_count": 40,
     "metadata": {},
     "output_type": "execute_result"
    }
   ],
   "source": [
    "data['response']['groups']"
   ]
  },
  {
   "cell_type": "code",
   "execution_count": 28,
   "metadata": {},
   "outputs": [],
   "source": [
    "import pprint"
   ]
  },
  {
   "cell_type": "code",
   "execution_count": 29,
   "metadata": {},
   "outputs": [
    {
     "name": "stdout",
     "output_type": "stream",
     "text": [
      "{'groups': [{'items': [{'reasons': {'count': 0,\n",
      "                                    'items': [{'reasonName': 'globalInteractionReason',\n",
      "                                               'summary': 'This spot is '\n",
      "                                                          'popular',\n",
      "                                               'type': 'general'}]},\n",
      "                        'referralId': 'e-0-56cb2d99498eb620bee31423-0',\n",
      "                        'venue': {'categories': [{'icon': {'prefix': 'https://ss3.4sqi.net/img/categories_v2/shops/apparel_',\n",
      "                                                           'suffix': '.png'},\n",
      "                                                  'id': '4bf58dd8d48988d103951735',\n",
      "                                                  'name': 'Clothing Store',\n",
      "                                                  'pluralName': 'Clothing '\n",
      "                                                                'Stores',\n",
      "                                                  'primary': True,\n",
      "                                                  'shortName': 'Apparel'}],\n",
      "                                  'id': '56cb2d99498eb620bee31423',\n",
      "                                  'location': {'address': '159 Prince St',\n",
      "                                               'cc': 'US',\n",
      "                                               'city': 'New York',\n",
      "                                               'country': 'United States',\n",
      "                                               'distance': 191,\n",
      "                                               'formattedAddress': ['159 '\n",
      "                                                                    'Prince St',\n",
      "                                                                    'New York, '\n",
      "                                                                    'NY 10012',\n",
      "                                                                    'United '\n",
      "                                                                    'States'],\n",
      "                                               'labeledLatLngs': [{'label': 'display',\n",
      "                                                                   'lat': 40.72596825325445,\n",
      "                                                                   'lng': -74.00122621589483}],\n",
      "                                               'lat': 40.72596825325445,\n",
      "                                               'lng': -74.00122621589483,\n",
      "                                               'postalCode': '10012',\n",
      "                                               'state': 'NY'},\n",
      "                                  'name': 'Rapha NYC',\n",
      "                                  'photos': {'count': 0, 'groups': []}}}],\n",
      "             'name': 'recommended',\n",
      "             'type': 'Recommended Places'}],\n",
      " 'headerFullLocation': 'SoHo, New York',\n",
      " 'headerLocation': 'SoHo',\n",
      " 'headerLocationGranularity': 'neighborhood',\n",
      " 'query': 'coffee',\n",
      " 'suggestedBounds': {'ne': {'lat': 40.727318083147175,\n",
      "                            'lng': -74.00258497963885},\n",
      "                     'sw': {'lat': 40.724618423361726,\n",
      "                            'lng': -73.99986745215081}},\n",
      " 'suggestedFilters': {'filters': [{'key': 'openNow', 'name': 'Open now'},\n",
      "                                  {'key': 'price', 'name': '$-$$$$'}],\n",
      "                      'header': 'Tap to show:'},\n",
      " 'suggestedRadius': 600,\n",
      " 'totalResults': 64,\n",
      " 'warning': {'text': 'There aren\\'t a lot of results for \"coffee.\" Try '\n",
      "                     'something more general, reset your filters, or expand '\n",
      "                     'the search area.'}}\n"
     ]
    }
   ],
   "source": [
    "pprint.pprint(data['response'])"
   ]
  },
  {
   "cell_type": "code",
   "execution_count": 41,
   "metadata": {},
   "outputs": [],
   "source": [
    "people = {1: {'name': 'John', 'age': '27', 'sex': 'Male'},\n",
    "          2: {'name': 'Marie', 'age': '22', 'sex': 'Female'}}"
   ]
  },
  {
   "cell_type": "code",
   "execution_count": 42,
   "metadata": {},
   "outputs": [
    {
     "data": {
      "text/plain": [
       "{1: {'name': 'John', 'age': '27', 'sex': 'Male'},\n",
       " 2: {'name': 'Marie', 'age': '22', 'sex': 'Female'}}"
      ]
     },
     "execution_count": 42,
     "metadata": {},
     "output_type": "execute_result"
    }
   ],
   "source": [
    "people"
   ]
  },
  {
   "cell_type": "code",
   "execution_count": 43,
   "metadata": {},
   "outputs": [
    {
     "data": {
      "text/plain": [
       "'John'"
      ]
     },
     "execution_count": 43,
     "metadata": {},
     "output_type": "execute_result"
    }
   ],
   "source": [
    "people[1]['name']"
   ]
  },
  {
   "cell_type": "code",
   "execution_count": 48,
   "metadata": {
    "scrolled": true
   },
   "outputs": [
    {
     "data": {
      "text/plain": [
       "{'type': 'Recommended Places',\n",
       " 'name': 'recommended',\n",
       " 'items': [{'reasons': {'count': 0,\n",
       "    'items': [{'summary': 'This spot is popular',\n",
       "      'type': 'general',\n",
       "      'reasonName': 'globalInteractionReason'}]},\n",
       "   'venue': {'id': '56cb2d99498eb620bee31423',\n",
       "    'name': 'Rapha NYC',\n",
       "    'location': {'address': '159 Prince St',\n",
       "     'lat': 40.72596825325445,\n",
       "     'lng': -74.00122621589483,\n",
       "     'labeledLatLngs': [{'label': 'display',\n",
       "       'lat': 40.72596825325445,\n",
       "       'lng': -74.00122621589483}],\n",
       "     'distance': 191,\n",
       "     'postalCode': '10012',\n",
       "     'cc': 'US',\n",
       "     'city': 'New York',\n",
       "     'state': 'NY',\n",
       "     'country': 'United States',\n",
       "     'formattedAddress': ['159 Prince St',\n",
       "      'New York, NY 10012',\n",
       "      'United States']},\n",
       "    'categories': [{'id': '4bf58dd8d48988d103951735',\n",
       "      'name': 'Clothing Store',\n",
       "      'pluralName': 'Clothing Stores',\n",
       "      'shortName': 'Apparel',\n",
       "      'icon': {'prefix': 'https://ss3.4sqi.net/img/categories_v2/shops/apparel_',\n",
       "       'suffix': '.png'},\n",
       "      'primary': True}],\n",
       "    'photos': {'count': 0, 'groups': []}},\n",
       "   'referralId': 'e-0-56cb2d99498eb620bee31423-0'}]}"
      ]
     },
     "execution_count": 48,
     "metadata": {},
     "output_type": "execute_result"
    }
   ],
   "source": [
    "data['response']['groups'][0]"
   ]
  },
  {
   "cell_type": "code",
   "execution_count": 49,
   "metadata": {},
   "outputs": [],
   "source": [
    "url = 'https://api.foursquare.com/v2/venues/{}?&client_id={}&client_secret={}&v={}'.format(\n",
    "            '4ae0c7a8f964a520638221e3',\n",
    "            CLIENT_ID, \n",
    "            CLIENT_SECRET, \n",
    "            VERSION)"
   ]
  },
  {
   "cell_type": "code",
   "execution_count": 50,
   "metadata": {},
   "outputs": [],
   "source": [
    "resp = requests.get(url=url)\n",
    "data = json.loads(resp.text)"
   ]
  },
  {
   "cell_type": "code",
   "execution_count": 51,
   "metadata": {},
   "outputs": [
    {
     "data": {
      "text/plain": [
       "{'meta': {'code': 200, 'requestId': '5f72196cfa12b11c4fd95778'},\n",
       " 'response': {'venue': {'id': '4ae0c7a8f964a520638221e3',\n",
       "   'name': 'Udupi Palace',\n",
       "   'contact': {'phone': '4164058189',\n",
       "    'formattedPhone': '(416) 405-8189',\n",
       "    'twitter': 'udupipalaceto'},\n",
       "   'location': {'address': '1460 Gerrard St E',\n",
       "    'crossStreet': 'Coxwell Ave',\n",
       "    'lat': 43.67247950462566,\n",
       "    'lng': -79.32127455331215,\n",
       "    'labeledLatLngs': [{'label': 'display',\n",
       "      'lat': 43.67247950462566,\n",
       "      'lng': -79.32127455331215}],\n",
       "    'postalCode': 'M4L 2A3\\u200e',\n",
       "    'cc': 'CA',\n",
       "    'city': 'Toronto',\n",
       "    'state': 'ON',\n",
       "    'country': 'Canada',\n",
       "    'formattedAddress': ['1460 Gerrard St E (Coxwell Ave)',\n",
       "     'Toronto ON M4L 2A3\\u200e',\n",
       "     'Canada']},\n",
       "   'canonicalUrl': 'https://foursquare.com/v/udupi-palace/4ae0c7a8f964a520638221e3',\n",
       "   'categories': [{'id': '4bf58dd8d48988d10f941735',\n",
       "     'name': 'Indian Restaurant',\n",
       "     'pluralName': 'Indian Restaurants',\n",
       "     'shortName': 'Indian',\n",
       "     'icon': {'prefix': 'https://ss3.4sqi.net/img/categories_v2/food/indian_',\n",
       "      'suffix': '.png'},\n",
       "     'primary': True},\n",
       "    {'id': '4bf58dd8d48988d1d3941735',\n",
       "     'name': 'Vegetarian / Vegan Restaurant',\n",
       "     'pluralName': 'Vegetarian / Vegan Restaurants',\n",
       "     'shortName': 'Vegetarian / Vegan',\n",
       "     'icon': {'prefix': 'https://ss3.4sqi.net/img/categories_v2/food/vegetarian_',\n",
       "      'suffix': '.png'}}],\n",
       "   'verified': False,\n",
       "   'stats': {'tipCount': 31},\n",
       "   'url': 'http://www.udupipalace.ca',\n",
       "   'price': {'tier': 1, 'message': 'Cheap', 'currency': '$'},\n",
       "   'hasMenu': True,\n",
       "   'likes': {'count': 78,\n",
       "    'groups': [{'type': 'others', 'count': 78, 'items': []}],\n",
       "    'summary': '78 Likes'},\n",
       "   'dislike': False,\n",
       "   'ok': False,\n",
       "   'rating': 8.6,\n",
       "   'ratingColor': '73CF42',\n",
       "   'ratingSignals': 111,\n",
       "   'menu': {'type': 'Menu',\n",
       "    'label': 'Menu',\n",
       "    'anchor': 'View Menu',\n",
       "    'url': 'https://foursquare.com/v/udupi-palace/4ae0c7a8f964a520638221e3/menu',\n",
       "    'mobileUrl': 'https://foursquare.com/v/4ae0c7a8f964a520638221e3/device_menu'},\n",
       "   'allowMenuUrlEdit': True,\n",
       "   'beenHere': {'count': 0,\n",
       "    'unconfirmedCount': 0,\n",
       "    'marked': False,\n",
       "    'lastCheckinExpiredAt': 0},\n",
       "   'specials': {'count': 0, 'items': []},\n",
       "   'photos': {'count': 67,\n",
       "    'groups': [{'type': 'venue',\n",
       "      'name': 'Venue photos',\n",
       "      'count': 67,\n",
       "      'items': [{'id': '4ee277a0f5b9c102eb39ebde',\n",
       "        'createdAt': 1323464608,\n",
       "        'source': {'name': 'Foursquare for iOS',\n",
       "         'url': 'https://foursquare.com/download/#/iphone'},\n",
       "        'prefix': 'https://fastly.4sqi.net/img/general/',\n",
       "        'suffix': '/VCL3P3523YNKZ2CJAUB3TGUESN5RHDCZQNZQWSPXEC0PONOG.jpg',\n",
       "        'width': 720,\n",
       "        'height': 537,\n",
       "        'user': {'id': '16890522',\n",
       "         'firstName': 'Mariel',\n",
       "         'lastName': 'G',\n",
       "         'photo': {'prefix': 'https://fastly.4sqi.net/img/user/',\n",
       "          'suffix': '/PSCKAM2HGIWY2NFG.jpg'}},\n",
       "        'visibility': 'public'},\n",
       "       {'id': '540b8d7c498ef2c928925bff',\n",
       "        'createdAt': 1410043260,\n",
       "        'source': {'name': 'Instagram', 'url': 'http://instagram.com'},\n",
       "        'prefix': 'https://fastly.4sqi.net/img/general/',\n",
       "        'suffix': '/90994_wqfE9Oi9q94CuoeUUOk773tPxyBF4gG6GiS6wKdDqTo.jpg',\n",
       "        'width': 640,\n",
       "        'height': 640,\n",
       "        'user': {'id': '90994',\n",
       "         'firstName': 'Lionel',\n",
       "         'lastName': 'C',\n",
       "         'photo': {'prefix': 'https://fastly.4sqi.net/img/user/',\n",
       "          'suffix': '/VK5NDMB3KU4IY0KP.jpg'}},\n",
       "        'visibility': 'public'}]}]},\n",
       "   'reasons': {'count': 1,\n",
       "    'items': [{'summary': 'Lots of people like this place',\n",
       "      'type': 'general',\n",
       "      'reasonName': 'rawLikesReason'}]},\n",
       "   'description': 'Authentic South Indian Vegetarian Restaurant also specialized in Vegan, Jain, Fusion and Tandoor. FREE WiFi',\n",
       "   'storeId': '',\n",
       "   'hereNow': {'count': 0, 'summary': 'Nobody here', 'groups': []},\n",
       "   'createdAt': 1256245160,\n",
       "   'tips': {'count': 31,\n",
       "    'groups': [{'type': 'others',\n",
       "      'name': 'All tips',\n",
       "      'count': 31,\n",
       "      'items': [{'id': '500d7795e4b0f6804fc6c25e',\n",
       "        'createdAt': 1343059861,\n",
       "        'text': 'Toronto Veg Card holders save at Udupi Palace: 10%! To find out how you can save, click here: http://bit.ly/tovegcard',\n",
       "        'entities': [{'indices': [94, 117],\n",
       "          'type': 'url',\n",
       "          'object': {'url': 'http://bit.ly/tovegcard'}}],\n",
       "        'type': 'user',\n",
       "        'canonicalUrl': 'https://foursquare.com/item/500d7795e4b0f6804fc6c25e',\n",
       "        'lang': 'en',\n",
       "        'likes': {'count': 4,\n",
       "         'groups': [{'type': 'others',\n",
       "           'count': 4,\n",
       "           'items': [{'id': '148675075',\n",
       "             'firstName': 'Sasha',\n",
       "             'lastName': 'A',\n",
       "             'photo': {'prefix': 'https://fastly.4sqi.net/img/user/',\n",
       "              'suffix': '/148675075-2OXXHG3YQPJVY0W2.jpg'}},\n",
       "            {'id': '197682',\n",
       "             'firstName': 'Michelle',\n",
       "             'lastName': 'G',\n",
       "             'photo': {'prefix': 'https://fastly.4sqi.net/img/user/',\n",
       "              'suffix': '/197682-VDQI3OG42UHIEMPM.jpg'}},\n",
       "            {'id': '63135',\n",
       "             'firstName': 'Jordan',\n",
       "             'lastName': 'C',\n",
       "             'photo': {'prefix': 'https://fastly.4sqi.net/img/user/',\n",
       "              'suffix': '/DE0PXICNQBLAFTBA.jpg'}},\n",
       "            {'id': '3209891',\n",
       "             'firstName': 'Tiffany',\n",
       "             'lastName': 'M',\n",
       "             'photo': {'prefix': 'https://fastly.4sqi.net/img/user/',\n",
       "              'suffix': '/UDLBWVMNP1Z1GGVG.jpg'}}]}],\n",
       "         'summary': '4 likes'},\n",
       "        'logView': True,\n",
       "        'agreeCount': 4,\n",
       "        'disagreeCount': 0,\n",
       "        'todo': {'count': 0},\n",
       "        'user': {'id': '32159448',\n",
       "         'firstName': 'Toronto Vegetarian Association',\n",
       "         'photo': {'prefix': 'https://fastly.4sqi.net/img/user/',\n",
       "          'suffix': '/MADGARMGL5INFXOT.jpg'},\n",
       "         'type': 'chain'}},\n",
       "       {'id': '4ae0c85370c603bbd0ac8eb4',\n",
       "        'createdAt': 1256245331,\n",
       "        'text': \"Go to Udupi Place.  Their Masala Dosa's are a feast for the eyes!  Absolutely huge!  Once done, most of it is air and it's comes out to be perfect portions.  Nice mix of savoury and spicy flavours\",\n",
       "        'type': 'user',\n",
       "        'url': 'http://www.udupipalace.ca/',\n",
       "        'canonicalUrl': 'https://foursquare.com/item/4ae0c85370c603bbd0ac8eb4',\n",
       "        'lang': 'en',\n",
       "        'likes': {'count': 3,\n",
       "         'groups': [{'type': 'others',\n",
       "           'count': 3,\n",
       "           'items': [{'id': '64895',\n",
       "             'firstName': 'Timmy Ho',\n",
       "             'lastName': '—',\n",
       "             'photo': {'prefix': 'https://fastly.4sqi.net/img/user/',\n",
       "              'suffix': '/64895_0Zr8b-2T__anuv7D_DVE_FpsUanItwzYYeK57uoMYSawHFycLWuxr1NGoqf6aRmVcy_pSCSk8.jpg'}},\n",
       "            {'id': '444680',\n",
       "             'firstName': 'Chandra',\n",
       "             'lastName': 'W',\n",
       "             'photo': {'prefix': 'https://fastly.4sqi.net/img/user/',\n",
       "              'suffix': '/1SOQDTH1IQ5H2EDH.jpg'}}]}],\n",
       "         'summary': '3 likes'},\n",
       "        'logView': True,\n",
       "        'agreeCount': 2,\n",
       "        'disagreeCount': 0,\n",
       "        'todo': {'count': 1},\n",
       "        'user': {'id': '12056',\n",
       "         'firstName': 'Michael',\n",
       "         'lastName': 'K',\n",
       "         'photo': {'prefix': 'https://fastly.4sqi.net/img/user/',\n",
       "          'suffix': '/V2LF0AOL4II0HOSJ.jpg'}}}]}]},\n",
       "   'shortUrl': 'http://4sq.com/bTry1j',\n",
       "   'timeZone': 'America/Toronto',\n",
       "   'listed': {'count': 104,\n",
       "    'groups': [{'type': 'others',\n",
       "      'name': 'Lists from other people',\n",
       "      'count': 104,\n",
       "      'items': [{'id': '4f770e8fe4b08f9be52bc620',\n",
       "        'name': 'Gluten Free Toronto',\n",
       "        'description': '',\n",
       "        'type': 'others',\n",
       "        'user': {'id': '14820094',\n",
       "         'firstName': 'Hilary',\n",
       "         'lastName': 'H',\n",
       "         'photo': {'prefix': 'https://fastly.4sqi.net/img/user/',\n",
       "          'suffix': '/14820094-ZNYGMVICVDWLGKRC'}},\n",
       "        'editable': False,\n",
       "        'public': True,\n",
       "        'collaborative': False,\n",
       "        'url': '/hlryhys/list/gluten-free-toronto',\n",
       "        'canonicalUrl': 'https://foursquare.com/hlryhys/list/gluten-free-toronto',\n",
       "        'createdAt': 1333202575,\n",
       "        'updatedAt': 1401209326,\n",
       "        'followers': {'count': 10},\n",
       "        'listItems': {'count': 43,\n",
       "         'items': [{'id': 'v4ae0c7a8f964a520638221e3',\n",
       "           'createdAt': 1379287331}]}},\n",
       "       {'id': '4ffb2bb8e4b042cc2c09bbdf',\n",
       "        'name': 'Toronto Veg Card discounts',\n",
       "        'description': 'List of businesses offering a discount to Toronto Veg Card holders. Get the card at http://veg.ca for just $25.',\n",
       "        'entities': [{'indices': [84, 97],\n",
       "          'type': 'url',\n",
       "          'object': {'url': 'http://veg.ca'}}],\n",
       "        'type': 'others',\n",
       "        'user': {'id': '32159448',\n",
       "         'firstName': 'Toronto Vegetarian Association',\n",
       "         'photo': {'prefix': 'https://fastly.4sqi.net/img/user/',\n",
       "          'suffix': '/MADGARMGL5INFXOT.jpg'},\n",
       "         'type': 'chain'},\n",
       "        'editable': False,\n",
       "        'public': True,\n",
       "        'collaborative': False,\n",
       "        'url': '/torontoveg/list/toronto-veg-card-discounts',\n",
       "        'canonicalUrl': 'https://foursquare.com/torontoveg/list/toronto-veg-card-discounts',\n",
       "        'createdAt': 1341860792,\n",
       "        'updatedAt': 1349195497,\n",
       "        'photo': {'id': '4f510425e4b0ed1d43108d5f',\n",
       "         'createdAt': 1330709541,\n",
       "         'prefix': 'https://fastly.4sqi.net/img/general/',\n",
       "         'suffix': '/sh3ZGJjG1Bvq9ZE4WAGREkb4WkBQk3L3C8cYqLG-Qnw.jpg',\n",
       "         'width': 612,\n",
       "         'height': 612,\n",
       "         'user': {'id': '11491945',\n",
       "          'firstName': 'Luke',\n",
       "          'lastName': 'A',\n",
       "          'photo': {'prefix': 'https://fastly.4sqi.net/img/user/',\n",
       "           'suffix': '/11491945-0JY4NSWDZLH5AZA4.jpg'}},\n",
       "         'visibility': 'public'},\n",
       "        'logView': True,\n",
       "        'followers': {'count': 55},\n",
       "        'listItems': {'count': 89,\n",
       "         'items': [{'id': 'v4ae0c7a8f964a520638221e3',\n",
       "           'createdAt': 1341869041}]}},\n",
       "       {'id': '50b92b9be4b0cdd4baf716a2',\n",
       "        'name': 'Toronto Food - Part 1',\n",
       "        'description': '',\n",
       "        'type': 'others',\n",
       "        'user': {'id': '3875010',\n",
       "         'firstName': 'Denise',\n",
       "         'photo': {'prefix': 'https://fastly.4sqi.net/img/user/',\n",
       "          'suffix': '/1OPPKBK2FI5EAH0A.jpg'}},\n",
       "        'editable': False,\n",
       "        'public': True,\n",
       "        'collaborative': False,\n",
       "        'url': '/user/3875010/list/toronto-food--part-1',\n",
       "        'canonicalUrl': 'https://foursquare.com/user/3875010/list/toronto-food--part-1',\n",
       "        'createdAt': 1354312603,\n",
       "        'updatedAt': 1545517748,\n",
       "        'photo': {'id': '50893469e4b0aa994cbdacd7',\n",
       "         'createdAt': 1351169129,\n",
       "         'prefix': 'https://fastly.4sqi.net/img/general/',\n",
       "         'suffix': '/1589524_YV4qTFt0C_EjiNxnCmG8eglubmxOAUaN9oFFSfkXz7Q.jpg',\n",
       "         'width': 800,\n",
       "         'height': 800,\n",
       "         'user': {'id': '1589524',\n",
       "          'firstName': 'jade',\n",
       "          'photo': {'prefix': 'https://fastly.4sqi.net/img/user/',\n",
       "           'suffix': '/1589524-3FRBRKM1N12NK0TE.jpg'}},\n",
       "         'visibility': 'public'},\n",
       "        'followers': {'count': 15},\n",
       "        'listItems': {'count': 242,\n",
       "         'items': [{'id': 'v4ae0c7a8f964a520638221e3',\n",
       "           'createdAt': 1355203256}]}},\n",
       "       {'id': '5178998c498e6d0ce4ee632d',\n",
       "        'name': 'Best vegan eats in Toronto!',\n",
       "        'description': 'All the best vegan and vegetarian spots in Toronto! See my Veg-Friendly list for places that serve meat, but also do wicked vegan food.',\n",
       "        'type': 'others',\n",
       "        'user': {'id': '11859261',\n",
       "         'firstName': 'Val',\n",
       "         'photo': {'prefix': 'https://fastly.4sqi.net/img/user/',\n",
       "          'suffix': '/2VUOZYFRV110A5MJ.jpg'}},\n",
       "        'editable': False,\n",
       "        'public': True,\n",
       "        'collaborative': False,\n",
       "        'url': '/valsthegal/list/best-vegan-eats-in-toronto',\n",
       "        'canonicalUrl': 'https://foursquare.com/valsthegal/list/best-vegan-eats-in-toronto',\n",
       "        'createdAt': 1366858124,\n",
       "        'updatedAt': 1534128516,\n",
       "        'photo': {'id': '57c621d4498e4686e9142c4e',\n",
       "         'createdAt': 1472602580,\n",
       "         'prefix': 'https://fastly.4sqi.net/img/general/',\n",
       "         'suffix': '/11859261_8u_1d9Q-sDIGUBktoNd7ejgPsTuflEKo42wp3FIkU4g.jpg',\n",
       "         'width': 1920,\n",
       "         'height': 1440,\n",
       "         'user': {'id': '11859261',\n",
       "          'firstName': 'Val',\n",
       "          'photo': {'prefix': 'https://fastly.4sqi.net/img/user/',\n",
       "           'suffix': '/2VUOZYFRV110A5MJ.jpg'}},\n",
       "         'visibility': 'public'},\n",
       "        'followers': {'count': 37},\n",
       "        'listItems': {'count': 33,\n",
       "         'items': [{'id': 'v4ae0c7a8f964a520638221e3',\n",
       "           'createdAt': 1382944224,\n",
       "           'photo': {'id': '5118925de4b0b0ae76de6cd0',\n",
       "            'createdAt': 1360564829,\n",
       "            'prefix': 'https://fastly.4sqi.net/img/general/',\n",
       "            'suffix': '/11859261_i_Pk6kim17RJH-yY40mvPZqR0scSt7fKChze8IBwir8.jpg',\n",
       "            'width': 720,\n",
       "            'height': 537,\n",
       "            'user': {'id': '11859261',\n",
       "             'firstName': 'Val',\n",
       "             'photo': {'prefix': 'https://fastly.4sqi.net/img/user/',\n",
       "              'suffix': '/2VUOZYFRV110A5MJ.jpg'}},\n",
       "            'visibility': 'public'}}]}}]}]},\n",
       "   'hours': {'status': 'Open until 10:00 PM',\n",
       "    'richStatus': {'entities': [], 'text': 'Open until 10:00 PM'},\n",
       "    'isOpen': True,\n",
       "    'isLocalHoliday': False,\n",
       "    'dayData': [],\n",
       "    'timeframes': [{'days': 'Mon–Thu, Sun',\n",
       "      'includesToday': True,\n",
       "      'open': [{'renderedTime': 'Noon–10:00 PM'}],\n",
       "      'segments': []},\n",
       "     {'days': 'Fri–Sat',\n",
       "      'open': [{'renderedTime': 'Noon–11:00 PM'}],\n",
       "      'segments': []}]},\n",
       "   'popular': {'status': 'Likely open',\n",
       "    'richStatus': {'entities': [], 'text': 'Likely open'},\n",
       "    'isOpen': True,\n",
       "    'isLocalHoliday': False,\n",
       "    'timeframes': [{'days': 'Today',\n",
       "      'includesToday': True,\n",
       "      'open': [{'renderedTime': '1:00 PM–3:00 PM'},\n",
       "       {'renderedTime': '6:00 PM–8:00 PM'}],\n",
       "      'segments': []},\n",
       "     {'days': 'Tue',\n",
       "      'open': [{'renderedTime': '7:00 PM–10:00 PM'}],\n",
       "      'segments': []},\n",
       "     {'days': 'Wed',\n",
       "      'open': [{'renderedTime': '2:00 PM–3:00 PM'},\n",
       "       {'renderedTime': '6:00 PM–9:00 PM'}],\n",
       "      'segments': []},\n",
       "     {'days': 'Thu',\n",
       "      'open': [{'renderedTime': 'Noon–1:00 PM'},\n",
       "       {'renderedTime': '6:00 PM–9:00 PM'}],\n",
       "      'segments': []},\n",
       "     {'days': 'Fri',\n",
       "      'open': [{'renderedTime': 'Noon–1:00 PM'},\n",
       "       {'renderedTime': '6:00 PM–11:00 PM'}],\n",
       "      'segments': []},\n",
       "     {'days': 'Sat',\n",
       "      'open': [{'renderedTime': 'Noon–11:00 PM'}],\n",
       "      'segments': []},\n",
       "     {'days': 'Sun',\n",
       "      'open': [{'renderedTime': 'Noon–10:00 PM'}],\n",
       "      'segments': []}]},\n",
       "   'seasonalHours': [],\n",
       "   'defaultHours': {'status': 'Open until 10:00 PM',\n",
       "    'richStatus': {'entities': [], 'text': 'Open until 10:00 PM'},\n",
       "    'isOpen': True,\n",
       "    'isLocalHoliday': False,\n",
       "    'dayData': [],\n",
       "    'timeframes': [{'days': 'Mon–Thu, Sun',\n",
       "      'includesToday': True,\n",
       "      'open': [{'renderedTime': 'Noon–10:00 PM'}],\n",
       "      'segments': []},\n",
       "     {'days': 'Fri–Sat',\n",
       "      'open': [{'renderedTime': 'Noon–11:00 PM'}],\n",
       "      'segments': []}]},\n",
       "   'pageUpdates': {'count': 0, 'items': []},\n",
       "   'inbox': {'count': 0, 'items': []},\n",
       "   'parent': {'id': '4d1bcc3234125941cd53cb17',\n",
       "    'name': 'Gerrard India Bazaar',\n",
       "    'location': {'address': 'Gerrard Street East',\n",
       "     'crossStreet': 'btw Glenwood Ave & Coxwell Ave',\n",
       "     'lat': 43.67208555010096,\n",
       "     'lng': -79.32340264320374,\n",
       "     'labeledLatLngs': [{'label': 'display',\n",
       "       'lat': 43.67208555010096,\n",
       "       'lng': -79.32340264320374}],\n",
       "     'postalCode': 'M4L 1Z6',\n",
       "     'cc': 'CA',\n",
       "     'neighborhood': 'Little India, Toronto, ON',\n",
       "     'city': 'Toronto',\n",
       "     'state': 'ON',\n",
       "     'country': 'Canada',\n",
       "     'formattedAddress': ['Gerrard Street East (btw Glenwood Ave & Coxwell Ave)',\n",
       "      'Toronto ON M4L 1Z6',\n",
       "      'Canada']},\n",
       "    'categories': [{'id': '5744ccdfe4b0c0459246b4dc',\n",
       "      'name': 'Shopping Plaza',\n",
       "      'pluralName': 'Shopping Plazas',\n",
       "      'shortName': 'Shopping Plaza',\n",
       "      'icon': {'prefix': 'https://ss3.4sqi.net/img/categories_v2/shops/mall_',\n",
       "       'suffix': '.png'},\n",
       "      'primary': True}]},\n",
       "   'hierarchy': [{'name': 'Gerrard India Bazaar',\n",
       "     'lang': 'en',\n",
       "     'id': '4d1bcc3234125941cd53cb17',\n",
       "     'canonicalUrl': 'https://foursquare.com/v/gerrard-india-bazaar/4d1bcc3234125941cd53cb17'}],\n",
       "   'attributes': {'groups': [{'type': 'price',\n",
       "      'name': 'Price',\n",
       "      'summary': '$',\n",
       "      'count': 1,\n",
       "      'items': [{'displayName': 'Price',\n",
       "        'displayValue': '$',\n",
       "        'priceTier': 1}]},\n",
       "     {'type': 'reservations',\n",
       "      'name': 'Reservations',\n",
       "      'count': 3,\n",
       "      'items': [{'displayName': 'Reservations', 'displayValue': 'No'}]},\n",
       "     {'type': 'payments',\n",
       "      'name': 'Credit Cards',\n",
       "      'summary': 'Credit Cards',\n",
       "      'count': 5,\n",
       "      'items': [{'displayName': 'Credit Cards', 'displayValue': 'Yes'}]},\n",
       "     {'type': 'outdoorSeating',\n",
       "      'name': 'Outdoor Seating',\n",
       "      'count': 1,\n",
       "      'items': [{'displayName': 'Outdoor Seating', 'displayValue': 'No'}]},\n",
       "     {'type': 'privateRoom',\n",
       "      'name': 'Private Room',\n",
       "      'summary': 'Private Room',\n",
       "      'count': 1,\n",
       "      'items': [{'displayName': 'Private Room', 'displayValue': 'Yes'}]},\n",
       "     {'type': 'music',\n",
       "      'name': 'Music',\n",
       "      'summary': 'Jukebox',\n",
       "      'count': 3,\n",
       "      'items': [{'displayName': 'Jukebox', 'displayValue': 'Jukebox'}]},\n",
       "     {'type': 'serves',\n",
       "      'name': 'Menus',\n",
       "      'summary': 'Dinner, Lunch & more',\n",
       "      'count': 8,\n",
       "      'items': [{'displayName': 'Brunch', 'displayValue': 'Brunch'},\n",
       "       {'displayName': 'Lunch', 'displayValue': 'Lunch'},\n",
       "       {'displayName': 'Dinner', 'displayValue': 'Dinner'}]},\n",
       "     {'type': 'parking',\n",
       "      'name': 'Parking',\n",
       "      'summary': 'Street Parking & Public Lot',\n",
       "      'count': 5,\n",
       "      'items': [{'displayName': 'Street Parking', 'displayValue': 'Street'},\n",
       "       {'displayName': 'Public Lot', 'displayValue': 'Public Lot'}]},\n",
       "     {'type': 'restroom',\n",
       "      'name': 'Restroom',\n",
       "      'summary': 'Restroom',\n",
       "      'count': 1,\n",
       "      'items': [{'displayName': 'Restroom', 'displayValue': 'Yes'}]},\n",
       "     {'type': 'tvs',\n",
       "      'name': 'TVs',\n",
       "      'summary': 'TVs',\n",
       "      'count': 1,\n",
       "      'items': [{'displayName': 'TVs', 'displayValue': 'Yes'}]}]},\n",
       "   'bestPhoto': {'id': '4ee277a0f5b9c102eb39ebde',\n",
       "    'createdAt': 1323464608,\n",
       "    'source': {'name': 'Foursquare for iOS',\n",
       "     'url': 'https://foursquare.com/download/#/iphone'},\n",
       "    'prefix': 'https://fastly.4sqi.net/img/general/',\n",
       "    'suffix': '/VCL3P3523YNKZ2CJAUB3TGUESN5RHDCZQNZQWSPXEC0PONOG.jpg',\n",
       "    'width': 720,\n",
       "    'height': 537,\n",
       "    'visibility': 'public'}}}}"
      ]
     },
     "execution_count": 51,
     "metadata": {},
     "output_type": "execute_result"
    }
   ],
   "source": [
    "data"
   ]
  },
  {
   "cell_type": "code",
   "execution_count": 53,
   "metadata": {},
   "outputs": [],
   "source": [
    "venues=data['response']['venue']"
   ]
  },
  {
   "cell_type": "code",
   "execution_count": 54,
   "metadata": {},
   "outputs": [],
   "source": [
    "venue_id=venues['id']"
   ]
  },
  {
   "cell_type": "code",
   "execution_count": 55,
   "metadata": {},
   "outputs": [
    {
     "data": {
      "text/plain": [
       "'4ae0c7a8f964a520638221e3'"
      ]
     },
     "execution_count": 55,
     "metadata": {},
     "output_type": "execute_result"
    }
   ],
   "source": [
    "venue_id"
   ]
  },
  {
   "cell_type": "code",
   "execution_count": 56,
   "metadata": {},
   "outputs": [],
   "source": [
    "venue_tips=venues['tips']['count']"
   ]
  },
  {
   "cell_type": "code",
   "execution_count": 57,
   "metadata": {},
   "outputs": [
    {
     "data": {
      "text/plain": [
       "31"
      ]
     },
     "execution_count": 57,
     "metadata": {},
     "output_type": "execute_result"
    }
   ],
   "source": [
    "venue_tips"
   ]
  },
  {
   "cell_type": "code",
   "execution_count": 58,
   "metadata": {},
   "outputs": [],
   "source": [
    "CLIENT_ID = 'QI1W5YKEU2WMGWC3QE4XF4V4Q13C2AX5Y0O3XLQMFTJ3B0QN' # your Foursquare ID\n",
    "CLIENT_SECRET = '5LIITDKGVMVWRQMQBRLJ2LQCVUKY4UKLQJVTDI0OWOHTECOY' # your Foursquare Secret\n",
    "VERSION = '20' # Foursquare API version\n",
    "    \n",
    "    #url to fetch data from foursquare api\n",
    "url = 'https://api.foursquare.com/v2/venues/{}?&client_id={}&client_secret={}&v={}'.format(\n",
    "            '4ae0c7a8f964a520638221e3',\n",
    "            CLIENT_ID, \n",
    "            CLIENT_SECRET, \n",
    "            VERSION)\n",
    "    \n",
    "results = requests.get(url).json()   "
   ]
  },
  {
   "cell_type": "code",
   "execution_count": 59,
   "metadata": {},
   "outputs": [
    {
     "ename": "KeyError",
     "evalue": "'venue'",
     "output_type": "error",
     "traceback": [
      "\u001b[1;31m---------------------------------------------------------------------------\u001b[0m",
      "\u001b[1;31mKeyError\u001b[0m                                  Traceback (most recent call last)",
      "\u001b[1;32m<ipython-input-59-55b257690b30>\u001b[0m in \u001b[0;36m<module>\u001b[1;34m\u001b[0m\n\u001b[1;32m----> 1\u001b[1;33m \u001b[0mvenue_data\u001b[0m\u001b[1;33m=\u001b[0m\u001b[0mresults\u001b[0m\u001b[1;33m[\u001b[0m\u001b[1;34m'response'\u001b[0m\u001b[1;33m]\u001b[0m\u001b[1;33m[\u001b[0m\u001b[1;34m'venue'\u001b[0m\u001b[1;33m]\u001b[0m\u001b[1;33m\u001b[0m\u001b[1;33m\u001b[0m\u001b[0m\n\u001b[0m",
      "\u001b[1;31mKeyError\u001b[0m: 'venue'"
     ]
    }
   ],
   "source": [
    "venue_data=results['response']['venue']"
   ]
  },
  {
   "cell_type": "code",
   "execution_count": 60,
   "metadata": {},
   "outputs": [
    {
     "data": {
      "text/plain": [
       "{'meta': {'code': 410,\n",
       "  'errorType': 'param_error',\n",
       "  'errorDetail': 'The Foursquare API no longer supports requests that pass in a version v <= 20120609. For more details see https://developer.foursquare.com/overview/versioning',\n",
       "  'requestId': '5f721d8a896a5805a4fdb27d'},\n",
       " 'response': {}}"
      ]
     },
     "execution_count": 60,
     "metadata": {},
     "output_type": "execute_result"
    }
   ],
   "source": [
    "results"
   ]
  },
  {
   "cell_type": "code",
   "execution_count": 61,
   "metadata": {},
   "outputs": [
    {
     "data": {
      "text/plain": [
       "{}"
      ]
     },
     "execution_count": 61,
     "metadata": {},
     "output_type": "execute_result"
    }
   ],
   "source": [
    "results['response']"
   ]
  },
  {
   "cell_type": "code",
   "execution_count": 62,
   "metadata": {},
   "outputs": [
    {
     "data": {
      "text/plain": [
       "dict_keys(['meta', 'response'])"
      ]
     },
     "execution_count": 62,
     "metadata": {},
     "output_type": "execute_result"
    }
   ],
   "source": [
    "results.keys()"
   ]
  },
  {
   "cell_type": "code",
   "execution_count": 63,
   "metadata": {},
   "outputs": [
    {
     "data": {
      "text/plain": [
       "{}"
      ]
     },
     "execution_count": 63,
     "metadata": {},
     "output_type": "execute_result"
    }
   ],
   "source": [
    "results['response']"
   ]
  },
  {
   "cell_type": "code",
   "execution_count": null,
   "metadata": {},
   "outputs": [],
   "source": []
  }
 ],
 "metadata": {
  "kernelspec": {
   "display_name": "Python 3",
   "language": "python",
   "name": "python3"
  },
  "language_info": {
   "codemirror_mode": {
    "name": "ipython",
    "version": 3
   },
   "file_extension": ".py",
   "mimetype": "text/x-python",
   "name": "python",
   "nbconvert_exporter": "python",
   "pygments_lexer": "ipython3",
   "version": "3.7.6"
  }
 },
 "nbformat": 4,
 "nbformat_minor": 4
}
